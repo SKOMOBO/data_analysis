{
 "cells": [
  {
   "cell_type": "code",
   "execution_count": 1,
   "metadata": {
    "collapsed": true,
    "hideCode": false,
    "hidePrompt": false
   },
   "outputs": [],
   "source": [
    "import pandas as pd"
   ]
  },
  {
   "cell_type": "code",
   "execution_count": 8,
   "metadata": {
    "collapsed": false,
    "hideCode": false,
    "hidePrompt": false
   },
   "outputs": [],
   "source": [
    "dfs = []\n",
    "\n",
    "for i in range(1, 8):\n",
    "    dfs.append(pd.read_csv(\"../data/PM_estimation/SKOMOBO-dust\" + str(i) +\".csv\", index_col=0))\n",
    "    \n",
    "data = pd.concat(dfs)"
   ]
  },
  {
   "cell_type": "markdown",
   "metadata": {},
   "source": [
    "# use the dfs instead it isolates it to each environment"
   ]
  },
  {
   "cell_type": "code",
   "execution_count": 10,
   "metadata": {
    "collapsed": false,
    "hideCode": false,
    "hidePrompt": false
   },
   "outputs": [
    {
     "data": {
      "text/html": [
       "<div>\n",
       "<table border=\"1\" class=\"dataframe\">\n",
       "  <thead>\n",
       "    <tr style=\"text-align: right;\">\n",
       "      <th></th>\n",
       "      <th>DT</th>\n",
       "      <th>EQM_ID</th>\n",
       "      <th>variable</th>\n",
       "      <th>value</th>\n",
       "    </tr>\n",
       "  </thead>\n",
       "  <tbody>\n",
       "    <tr>\n",
       "      <th>1</th>\n",
       "      <td>2017-05-12 17:30:00</td>\n",
       "      <td>SKOMOBO</td>\n",
       "      <td>PM1.0</td>\n",
       "      <td>0.0</td>\n",
       "    </tr>\n",
       "    <tr>\n",
       "      <th>2</th>\n",
       "      <td>2017-05-12 17:31:00</td>\n",
       "      <td>SKOMOBO</td>\n",
       "      <td>PM1.0</td>\n",
       "      <td>0.0</td>\n",
       "    </tr>\n",
       "    <tr>\n",
       "      <th>3</th>\n",
       "      <td>2017-05-12 17:32:00</td>\n",
       "      <td>SKOMOBO</td>\n",
       "      <td>PM1.0</td>\n",
       "      <td>0.0</td>\n",
       "    </tr>\n",
       "    <tr>\n",
       "      <th>4</th>\n",
       "      <td>2017-05-12 17:33:00</td>\n",
       "      <td>SKOMOBO</td>\n",
       "      <td>PM1.0</td>\n",
       "      <td>0.0</td>\n",
       "    </tr>\n",
       "    <tr>\n",
       "      <th>5</th>\n",
       "      <td>2017-05-12 17:34:00</td>\n",
       "      <td>SKOMOBO</td>\n",
       "      <td>PM1.0</td>\n",
       "      <td>0.0</td>\n",
       "    </tr>\n",
       "    <tr>\n",
       "      <th>6</th>\n",
       "      <td>2017-05-12 17:35:00</td>\n",
       "      <td>SKOMOBO</td>\n",
       "      <td>PM1.0</td>\n",
       "      <td>0.0</td>\n",
       "    </tr>\n",
       "    <tr>\n",
       "      <th>7</th>\n",
       "      <td>2017-05-12 17:36:00</td>\n",
       "      <td>SKOMOBO</td>\n",
       "      <td>PM1.0</td>\n",
       "      <td>0.0</td>\n",
       "    </tr>\n",
       "    <tr>\n",
       "      <th>8</th>\n",
       "      <td>2017-05-12 17:37:00</td>\n",
       "      <td>SKOMOBO</td>\n",
       "      <td>PM1.0</td>\n",
       "      <td>0.0</td>\n",
       "    </tr>\n",
       "    <tr>\n",
       "      <th>9</th>\n",
       "      <td>2017-05-12 17:38:00</td>\n",
       "      <td>SKOMOBO</td>\n",
       "      <td>PM1.0</td>\n",
       "      <td>0.0</td>\n",
       "    </tr>\n",
       "    <tr>\n",
       "      <th>10</th>\n",
       "      <td>2017-05-12 17:39:00</td>\n",
       "      <td>SKOMOBO</td>\n",
       "      <td>PM1.0</td>\n",
       "      <td>0.0</td>\n",
       "    </tr>\n",
       "  </tbody>\n",
       "</table>\n",
       "</div>"
      ],
      "text/plain": [
       "                     DT   EQM_ID variable  value\n",
       "1   2017-05-12 17:30:00  SKOMOBO    PM1.0    0.0\n",
       "2   2017-05-12 17:31:00  SKOMOBO    PM1.0    0.0\n",
       "3   2017-05-12 17:32:00  SKOMOBO    PM1.0    0.0\n",
       "4   2017-05-12 17:33:00  SKOMOBO    PM1.0    0.0\n",
       "5   2017-05-12 17:34:00  SKOMOBO    PM1.0    0.0\n",
       "6   2017-05-12 17:35:00  SKOMOBO    PM1.0    0.0\n",
       "7   2017-05-12 17:36:00  SKOMOBO    PM1.0    0.0\n",
       "8   2017-05-12 17:37:00  SKOMOBO    PM1.0    0.0\n",
       "9   2017-05-12 17:38:00  SKOMOBO    PM1.0    0.0\n",
       "10  2017-05-12 17:39:00  SKOMOBO    PM1.0    0.0"
      ]
     },
     "execution_count": 10,
     "metadata": {},
     "output_type": "execute_result"
    }
   ],
   "source": [
    "data.head(10)"
   ]
  },
  {
   "cell_type": "code",
   "execution_count": 12,
   "metadata": {
    "collapsed": true,
    "hideCode": false,
    "hidePrompt": false
   },
   "outputs": [],
   "source": [
    "%matplotlib inline"
   ]
  },
  {
   "cell_type": "code",
   "execution_count": 13,
   "metadata": {
    "collapsed": false,
    "hideCode": false,
    "hidePrompt": false
   },
   "outputs": [
    {
     "data": {
      "text/plain": [
       "<matplotlib.axes._subplots.AxesSubplot at 0x1550a6a0>"
      ]
     },
     "execution_count": 13,
     "metadata": {},
     "output_type": "execute_result"
    },
    {
     "data": {
      "image/png": "[encoded data removed]",
      "text/plain": [
       "<matplotlib.figure.Figure at 0x9af3cc0>"
      ]
     },
     "metadata": {},
     "output_type": "display_data"
    }
   ],
   "source": [
    "data.value.plot()"
   ]
  },
  {
   "cell_type": "code",
   "execution_count": 15,
   "metadata": {
    "collapsed": false
   },
   "outputs": [
    {
     "data": {
      "text/plain": [
       "{'DTPM10',\n",
       " 'DTPM2.5',\n",
       " 'PM10DT',\n",
       " 'PM2.5DT',\n",
       " 'SKOMOBO',\n",
       " 'SKOMOBO1',\n",
       " 'SKOMOBO2',\n",
       " 'SKOMOBO3',\n",
       " 'SKOMOBO4',\n",
       " 'SKOMOBO5',\n",
       " 'SKOMOBO6',\n",
       " 'SKOMOBO7'}"
      ]
     },
     "execution_count": 15,
     "metadata": {},
     "output_type": "execute_result"
    }
   ],
   "source": [
    "set(data[\"EQM_ID\"])"
   ]
  },
  {
   "cell_type": "code",
   "execution_count": 19,
   "metadata": {
    "collapsed": false
   },
   "outputs": [
    {
     "data": {
      "text/plain": [
       "<matplotlib.axes._subplots.AxesSubplot at 0x156de898>"
      ]
     },
     "execution_count": 19,
     "metadata": {},
     "output_type": "execute_result"
    },
    {
     "data": {
      "image/png": "[encoded data removed]",
      "text/plain": [
       "<matplotlib.figure.Figure at 0x143cad30>"
      ]
     },
     "metadata": {},
     "output_type": "display_data"
    }
   ],
   "source": [
    "data[data[\"EQM_ID\"] == \"PM10DT\"].value.plot()"
   ]
  },
  {
   "cell_type": "code",
   "execution_count": 14,
   "metadata": {
    "collapsed": true,
    "hideCode": false,
    "hidePrompt": false
   },
   "outputs": [],
   "source": [
    "skomobo = data[data[\"EQM_ID\"] == \"SKOMOBO\"]\n",
    "Qtrack = data[data[\"EQM_ID\"] == \"SKOMOBO\"]"
   ]
  },
  {
   "cell_type": "code",
   "execution_count": 60,
   "metadata": {
    "collapsed": true
   },
   "outputs": [],
   "source": [
    "data = dfs[5]"
   ]
  },
  {
   "cell_type": "code",
   "execution_count": 61,
   "metadata": {
    "collapsed": false
   },
   "outputs": [
    {
     "data": {
      "text/plain": [
       "{'PM10DT',\n",
       " 'PM2.5DT',\n",
       " 'SKOMOBO1',\n",
       " 'SKOMOBO2',\n",
       " 'SKOMOBO3',\n",
       " 'SKOMOBO4',\n",
       " 'SKOMOBO5',\n",
       " 'SKOMOBO6'}"
      ]
     },
     "execution_count": 61,
     "metadata": {},
     "output_type": "execute_result"
    }
   ],
   "source": [
    "set(data[\"EQM_ID\"])"
   ]
  },
  {
   "cell_type": "code",
   "execution_count": 62,
   "metadata": {
    "collapsed": true
   },
   "outputs": [],
   "source": [
    "skomobo = data[data.EQM_ID == \"SKOMOBO1\"]\n",
    "pm10dt = data[data.EQM_ID == \"PM10DT\"]\n",
    "pm2_5dt = data[data.EQM_ID == \"PM2.5DT\"]"
   ]
  },
  {
   "cell_type": "code",
   "execution_count": 63,
   "metadata": {
    "collapsed": false
   },
   "outputs": [
    {
     "data": {
      "text/plain": [
       "<matplotlib.axes._subplots.AxesSubplot at 0x1989d7b8>"
      ]
     },
     "execution_count": 63,
     "metadata": {},
     "output_type": "execute_result"
    },
    {
     "data": {
      "image/png": "[encoded data removed]",
      "text/plain": [
       "<matplotlib.figure.Figure at 0x18582da0>"
      ]
     },
     "metadata": {},
     "output_type": "display_data"
    }
   ],
   "source": [
    "skomobo.value.plot()\n",
    "pm10dt.value.plot()"
   ]
  },
  {
   "cell_type": "code",
   "execution_count": 64,
   "metadata": {
    "collapsed": false
   },
   "outputs": [
    {
     "data": {
      "text/plain": [
       "<matplotlib.axes._subplots.AxesSubplot at 0x19c7de80>"
      ]
     },
     "execution_count": 64,
     "metadata": {},
     "output_type": "execute_result"
    },
    {
     "data": {
      "image/png": "[encoded data removed]",
      "text/plain": [
       "<matplotlib.figure.Figure at 0x19ca1128>"
      ]
     },
     "metadata": {},
     "output_type": "display_data"
    }
   ],
   "source": [
    "data.boxplot(column = \"value\", by=\"EQM_ID\")"
   ]
  },
  {
   "cell_type": "code",
   "execution_count": 65,
   "metadata": {
    "collapsed": false
   },
   "outputs": [
    {
     "data": {
      "text/plain": [
       "<matplotlib.axes._subplots.AxesSubplot at 0x1a70ceb8>"
      ]
     },
     "execution_count": 65,
     "metadata": {},
     "output_type": "execute_result"
    },
    {
     "data": {
      "image/png": "[encoded data removed]",
      "text/plain": [
       "<matplotlib.figure.Figure at 0x1a2a5a20>"
      ]
     },
     "metadata": {},
     "output_type": "display_data"
    }
   ],
   "source": [
    "skomobo.boxplot(column = \"value\", by=\"EQM_ID\")"
   ]
  },
  {
   "cell_type": "code",
   "execution_count": 69,
   "metadata": {
    "collapsed": false
   },
   "outputs": [
    {
     "data": {
      "text/plain": [
       "['SKOMOBO1', 'SKOMOBO2', 'SKOMOBO3', 'SKOMOBO4', 'SKOMOBO5', 'SKOMOBO6']"
      ]
     },
     "execution_count": 69,
     "metadata": {},
     "output_type": "execute_result"
    }
   ],
   "source": [
    "[\"SKOMOBO\" + str(i) for i in range(1,7)]"
   ]
  },
  {
   "cell_type": "code",
   "execution_count": 76,
   "metadata": {
    "collapsed": false
   },
   "outputs": [
    {
     "data": {
      "text/plain": [
       "<matplotlib.axes._subplots.AxesSubplot at 0x1b05e8d0>"
      ]
     },
     "execution_count": 76,
     "metadata": {},
     "output_type": "execute_result"
    },
    {
     "data": {
      "image/png": "[encoded data removed]",
      "text/plain": [
       "<matplotlib.figure.Figure at 0x1a9b9978>"
      ]
     },
     "metadata": {},
     "output_type": "display_data"
    }
   ],
   "source": [
    "data[data[\"EQM_ID\"].isin(['PM10DT', 'PM2.5DT'])].boxplot(column = \"value\", by=\"EQM_ID\")"
   ]
  },
  {
   "cell_type": "code",
   "execution_count": 57,
   "metadata": {
    "collapsed": false
   },
   "outputs": [
    {
     "data": {
      "text/plain": [
       "<matplotlib.axes._subplots.AxesSubplot at 0x1924e358>"
      ]
     },
     "execution_count": 57,
     "metadata": {},
     "output_type": "execute_result"
    },
    {
     "data": {
      "image/png": "[encoded data removed]",
      "text/plain": [
       "<matplotlib.figure.Figure at 0x190d3240>"
      ]
     },
     "metadata": {},
     "output_type": "display_data"
    }
   ],
   "source": [
    "# skomobo[skomobo[\"value\"] < 3].boxplot(column = \"value\", by=\"EQM_ID\")\n",
    "skomobo[skomobo[\"value\"] < 3].boxplot(column = \"value\", by=\"EQM_ID\")"
   ]
  },
  {
   "cell_type": "code",
   "execution_count": 36,
   "metadata": {
    "collapsed": false
   },
   "outputs": [
    {
     "data": {
      "text/html": [
       "<div>\n",
       "<table border=\"1\" class=\"dataframe\">\n",
       "  <thead>\n",
       "    <tr style=\"text-align: right;\">\n",
       "      <th></th>\n",
       "      <th>DT</th>\n",
       "      <th>EQM_ID</th>\n",
       "      <th>variable</th>\n",
       "      <th>value</th>\n",
       "    </tr>\n",
       "  </thead>\n",
       "  <tbody>\n",
       "    <tr>\n",
       "      <th>1</th>\n",
       "      <td>2017-05-12 17:30:00</td>\n",
       "      <td>SKOMOBO</td>\n",
       "      <td>PM1.0</td>\n",
       "      <td>0.0</td>\n",
       "    </tr>\n",
       "    <tr>\n",
       "      <th>2</th>\n",
       "      <td>2017-05-12 17:31:00</td>\n",
       "      <td>SKOMOBO</td>\n",
       "      <td>PM1.0</td>\n",
       "      <td>0.0</td>\n",
       "    </tr>\n",
       "    <tr>\n",
       "      <th>3</th>\n",
       "      <td>2017-05-12 17:32:00</td>\n",
       "      <td>SKOMOBO</td>\n",
       "      <td>PM1.0</td>\n",
       "      <td>0.0</td>\n",
       "    </tr>\n",
       "    <tr>\n",
       "      <th>4</th>\n",
       "      <td>2017-05-12 17:33:00</td>\n",
       "      <td>SKOMOBO</td>\n",
       "      <td>PM1.0</td>\n",
       "      <td>0.0</td>\n",
       "    </tr>\n",
       "    <tr>\n",
       "      <th>5</th>\n",
       "      <td>2017-05-12 17:34:00</td>\n",
       "      <td>SKOMOBO</td>\n",
       "      <td>PM1.0</td>\n",
       "      <td>0.0</td>\n",
       "    </tr>\n",
       "    <tr>\n",
       "      <th>6</th>\n",
       "      <td>2017-05-12 17:35:00</td>\n",
       "      <td>SKOMOBO</td>\n",
       "      <td>PM1.0</td>\n",
       "      <td>0.0</td>\n",
       "    </tr>\n",
       "    <tr>\n",
       "      <th>7</th>\n",
       "      <td>2017-05-12 17:36:00</td>\n",
       "      <td>SKOMOBO</td>\n",
       "      <td>PM1.0</td>\n",
       "      <td>0.0</td>\n",
       "    </tr>\n",
       "    <tr>\n",
       "      <th>8</th>\n",
       "      <td>2017-05-12 17:37:00</td>\n",
       "      <td>SKOMOBO</td>\n",
       "      <td>PM1.0</td>\n",
       "      <td>0.0</td>\n",
       "    </tr>\n",
       "    <tr>\n",
       "      <th>9</th>\n",
       "      <td>2017-05-12 17:38:00</td>\n",
       "      <td>SKOMOBO</td>\n",
       "      <td>PM1.0</td>\n",
       "      <td>0.0</td>\n",
       "    </tr>\n",
       "    <tr>\n",
       "      <th>10</th>\n",
       "      <td>2017-05-12 17:39:00</td>\n",
       "      <td>SKOMOBO</td>\n",
       "      <td>PM1.0</td>\n",
       "      <td>0.0</td>\n",
       "    </tr>\n",
       "  </tbody>\n",
       "</table>\n",
       "</div>"
      ],
      "text/plain": [
       "                     DT   EQM_ID variable  value\n",
       "1   2017-05-12 17:30:00  SKOMOBO    PM1.0    0.0\n",
       "2   2017-05-12 17:31:00  SKOMOBO    PM1.0    0.0\n",
       "3   2017-05-12 17:32:00  SKOMOBO    PM1.0    0.0\n",
       "4   2017-05-12 17:33:00  SKOMOBO    PM1.0    0.0\n",
       "5   2017-05-12 17:34:00  SKOMOBO    PM1.0    0.0\n",
       "6   2017-05-12 17:35:00  SKOMOBO    PM1.0    0.0\n",
       "7   2017-05-12 17:36:00  SKOMOBO    PM1.0    0.0\n",
       "8   2017-05-12 17:37:00  SKOMOBO    PM1.0    0.0\n",
       "9   2017-05-12 17:38:00  SKOMOBO    PM1.0    0.0\n",
       "10  2017-05-12 17:39:00  SKOMOBO    PM1.0    0.0"
      ]
     },
     "execution_count": 36,
     "metadata": {},
     "output_type": "execute_result"
    }
   ],
   "source": [
    "skomobo.head(10)"
   ]
  },
  {
   "cell_type": "code",
   "execution_count": 78,
   "metadata": {
    "collapsed": true
   },
   "outputs": [],
   "source": [
    "import numpy as np"
   ]
  },
  {
   "cell_type": "code",
   "execution_count": 80,
   "metadata": {
    "collapsed": false
   },
   "outputs": [
    {
     "data": {
      "text/html": [
       "<div>\n",
       "<table border=\"1\" class=\"dataframe\">\n",
       "  <thead>\n",
       "    <tr style=\"text-align: right;\">\n",
       "      <th></th>\n",
       "      <th>DT</th>\n",
       "      <th>EQM_ID</th>\n",
       "      <th>variable</th>\n",
       "      <th>value</th>\n",
       "    </tr>\n",
       "  </thead>\n",
       "  <tbody>\n",
       "    <tr>\n",
       "      <th>1</th>\n",
       "      <td>2017-07-05 00:00:00</td>\n",
       "      <td>SKOMOBO1</td>\n",
       "      <td>PM2.5</td>\n",
       "      <td>2.0</td>\n",
       "    </tr>\n",
       "    <tr>\n",
       "      <th>5</th>\n",
       "      <td>2017-07-05 00:04:00</td>\n",
       "      <td>SKOMOBO1</td>\n",
       "      <td>PM2.5</td>\n",
       "      <td>2.0</td>\n",
       "    </tr>\n",
       "    <tr>\n",
       "      <th>6</th>\n",
       "      <td>2017-07-05 00:05:00</td>\n",
       "      <td>SKOMOBO1</td>\n",
       "      <td>PM2.5</td>\n",
       "      <td>2.0</td>\n",
       "    </tr>\n",
       "    <tr>\n",
       "      <th>9</th>\n",
       "      <td>2017-07-05 00:08:00</td>\n",
       "      <td>SKOMOBO1</td>\n",
       "      <td>PM2.5</td>\n",
       "      <td>1.0</td>\n",
       "    </tr>\n",
       "    <tr>\n",
       "      <th>12</th>\n",
       "      <td>2017-07-05 00:11:00</td>\n",
       "      <td>SKOMOBO1</td>\n",
       "      <td>PM2.5</td>\n",
       "      <td>2.0</td>\n",
       "    </tr>\n",
       "    <tr>\n",
       "      <th>16</th>\n",
       "      <td>2017-07-05 00:15:00</td>\n",
       "      <td>SKOMOBO1</td>\n",
       "      <td>PM2.5</td>\n",
       "      <td>2.0</td>\n",
       "    </tr>\n",
       "    <tr>\n",
       "      <th>18</th>\n",
       "      <td>2017-07-05 00:17:00</td>\n",
       "      <td>SKOMOBO1</td>\n",
       "      <td>PM2.5</td>\n",
       "      <td>1.0</td>\n",
       "    </tr>\n",
       "    <tr>\n",
       "      <th>20</th>\n",
       "      <td>2017-07-05 00:19:00</td>\n",
       "      <td>SKOMOBO1</td>\n",
       "      <td>PM2.5</td>\n",
       "      <td>2.0</td>\n",
       "    </tr>\n",
       "    <tr>\n",
       "      <th>21</th>\n",
       "      <td>2017-07-05 00:20:00</td>\n",
       "      <td>SKOMOBO1</td>\n",
       "      <td>PM2.5</td>\n",
       "      <td>2.0</td>\n",
       "    </tr>\n",
       "    <tr>\n",
       "      <th>22</th>\n",
       "      <td>2017-07-05 00:21:00</td>\n",
       "      <td>SKOMOBO1</td>\n",
       "      <td>PM2.5</td>\n",
       "      <td>2.0</td>\n",
       "    </tr>\n",
       "    <tr>\n",
       "      <th>24</th>\n",
       "      <td>2017-07-05 00:23:00</td>\n",
       "      <td>SKOMOBO1</td>\n",
       "      <td>PM2.5</td>\n",
       "      <td>1.0</td>\n",
       "    </tr>\n",
       "    <tr>\n",
       "      <th>26</th>\n",
       "      <td>2017-07-05 00:25:00</td>\n",
       "      <td>SKOMOBO1</td>\n",
       "      <td>PM2.5</td>\n",
       "      <td>2.0</td>\n",
       "    </tr>\n",
       "    <tr>\n",
       "      <th>28</th>\n",
       "      <td>2017-07-05 00:27:00</td>\n",
       "      <td>SKOMOBO1</td>\n",
       "      <td>PM2.5</td>\n",
       "      <td>2.0</td>\n",
       "    </tr>\n",
       "    <tr>\n",
       "      <th>29</th>\n",
       "      <td>2017-07-05 00:28:00</td>\n",
       "      <td>SKOMOBO1</td>\n",
       "      <td>PM2.5</td>\n",
       "      <td>1.0</td>\n",
       "    </tr>\n",
       "    <tr>\n",
       "      <th>30</th>\n",
       "      <td>2017-07-05 00:29:00</td>\n",
       "      <td>SKOMOBO1</td>\n",
       "      <td>PM2.5</td>\n",
       "      <td>2.0</td>\n",
       "    </tr>\n",
       "    <tr>\n",
       "      <th>31</th>\n",
       "      <td>2017-07-05 00:30:00</td>\n",
       "      <td>SKOMOBO1</td>\n",
       "      <td>PM2.5</td>\n",
       "      <td>2.0</td>\n",
       "    </tr>\n",
       "    <tr>\n",
       "      <th>32</th>\n",
       "      <td>2017-07-05 00:31:00</td>\n",
       "      <td>SKOMOBO1</td>\n",
       "      <td>PM2.5</td>\n",
       "      <td>2.0</td>\n",
       "    </tr>\n",
       "    <tr>\n",
       "      <th>33</th>\n",
       "      <td>2017-07-05 00:32:00</td>\n",
       "      <td>SKOMOBO1</td>\n",
       "      <td>PM2.5</td>\n",
       "      <td>1.0</td>\n",
       "    </tr>\n",
       "    <tr>\n",
       "      <th>34</th>\n",
       "      <td>2017-07-05 00:33:00</td>\n",
       "      <td>SKOMOBO1</td>\n",
       "      <td>PM2.5</td>\n",
       "      <td>2.0</td>\n",
       "    </tr>\n",
       "    <tr>\n",
       "      <th>35</th>\n",
       "      <td>2017-07-05 00:34:00</td>\n",
       "      <td>SKOMOBO1</td>\n",
       "      <td>PM2.5</td>\n",
       "      <td>2.0</td>\n",
       "    </tr>\n",
       "    <tr>\n",
       "      <th>36</th>\n",
       "      <td>2017-07-05 00:35:00</td>\n",
       "      <td>SKOMOBO1</td>\n",
       "      <td>PM2.5</td>\n",
       "      <td>1.0</td>\n",
       "    </tr>\n",
       "    <tr>\n",
       "      <th>37</th>\n",
       "      <td>2017-07-05 00:36:00</td>\n",
       "      <td>SKOMOBO1</td>\n",
       "      <td>PM2.5</td>\n",
       "      <td>1.0</td>\n",
       "    </tr>\n",
       "    <tr>\n",
       "      <th>38</th>\n",
       "      <td>2017-07-05 00:37:00</td>\n",
       "      <td>SKOMOBO1</td>\n",
       "      <td>PM2.5</td>\n",
       "      <td>2.0</td>\n",
       "    </tr>\n",
       "    <tr>\n",
       "      <th>40</th>\n",
       "      <td>2017-07-05 00:39:00</td>\n",
       "      <td>SKOMOBO1</td>\n",
       "      <td>PM2.5</td>\n",
       "      <td>2.0</td>\n",
       "    </tr>\n",
       "    <tr>\n",
       "      <th>41</th>\n",
       "      <td>2017-07-05 00:40:00</td>\n",
       "      <td>SKOMOBO1</td>\n",
       "      <td>PM2.5</td>\n",
       "      <td>2.0</td>\n",
       "    </tr>\n",
       "    <tr>\n",
       "      <th>42</th>\n",
       "      <td>2017-07-05 00:41:00</td>\n",
       "      <td>SKOMOBO1</td>\n",
       "      <td>PM2.5</td>\n",
       "      <td>2.0</td>\n",
       "    </tr>\n",
       "    <tr>\n",
       "      <th>43</th>\n",
       "      <td>2017-07-05 00:42:00</td>\n",
       "      <td>SKOMOBO1</td>\n",
       "      <td>PM2.5</td>\n",
       "      <td>2.0</td>\n",
       "    </tr>\n",
       "    <tr>\n",
       "      <th>46</th>\n",
       "      <td>2017-07-05 00:45:00</td>\n",
       "      <td>SKOMOBO1</td>\n",
       "      <td>PM2.5</td>\n",
       "      <td>2.0</td>\n",
       "    </tr>\n",
       "    <tr>\n",
       "      <th>48</th>\n",
       "      <td>2017-07-05 00:47:00</td>\n",
       "      <td>SKOMOBO1</td>\n",
       "      <td>PM2.5</td>\n",
       "      <td>2.0</td>\n",
       "    </tr>\n",
       "    <tr>\n",
       "      <th>49</th>\n",
       "      <td>2017-07-05 00:48:00</td>\n",
       "      <td>SKOMOBO1</td>\n",
       "      <td>PM2.5</td>\n",
       "      <td>2.0</td>\n",
       "    </tr>\n",
       "    <tr>\n",
       "      <th>...</th>\n",
       "      <td>...</td>\n",
       "      <td>...</td>\n",
       "      <td>...</td>\n",
       "      <td>...</td>\n",
       "    </tr>\n",
       "    <tr>\n",
       "      <th>69004</th>\n",
       "      <td>2017-07-10 23:24:00</td>\n",
       "      <td>SKOMOBO1</td>\n",
       "      <td>PM10</td>\n",
       "      <td>1.0</td>\n",
       "    </tr>\n",
       "    <tr>\n",
       "      <th>69005</th>\n",
       "      <td>2017-07-10 23:25:00</td>\n",
       "      <td>SKOMOBO1</td>\n",
       "      <td>PM10</td>\n",
       "      <td>2.0</td>\n",
       "    </tr>\n",
       "    <tr>\n",
       "      <th>69006</th>\n",
       "      <td>2017-07-10 23:26:00</td>\n",
       "      <td>SKOMOBO1</td>\n",
       "      <td>PM10</td>\n",
       "      <td>2.0</td>\n",
       "    </tr>\n",
       "    <tr>\n",
       "      <th>69007</th>\n",
       "      <td>2017-07-10 23:27:00</td>\n",
       "      <td>SKOMOBO1</td>\n",
       "      <td>PM10</td>\n",
       "      <td>2.0</td>\n",
       "    </tr>\n",
       "    <tr>\n",
       "      <th>69008</th>\n",
       "      <td>2017-07-10 23:28:00</td>\n",
       "      <td>SKOMOBO1</td>\n",
       "      <td>PM10</td>\n",
       "      <td>1.0</td>\n",
       "    </tr>\n",
       "    <tr>\n",
       "      <th>69009</th>\n",
       "      <td>2017-07-10 23:29:00</td>\n",
       "      <td>SKOMOBO1</td>\n",
       "      <td>PM10</td>\n",
       "      <td>2.0</td>\n",
       "    </tr>\n",
       "    <tr>\n",
       "      <th>69010</th>\n",
       "      <td>2017-07-10 23:30:00</td>\n",
       "      <td>SKOMOBO1</td>\n",
       "      <td>PM10</td>\n",
       "      <td>2.0</td>\n",
       "    </tr>\n",
       "    <tr>\n",
       "      <th>69011</th>\n",
       "      <td>2017-07-10 23:31:00</td>\n",
       "      <td>SKOMOBO1</td>\n",
       "      <td>PM10</td>\n",
       "      <td>2.0</td>\n",
       "    </tr>\n",
       "    <tr>\n",
       "      <th>69012</th>\n",
       "      <td>2017-07-10 23:32:00</td>\n",
       "      <td>SKOMOBO1</td>\n",
       "      <td>PM10</td>\n",
       "      <td>2.0</td>\n",
       "    </tr>\n",
       "    <tr>\n",
       "      <th>69013</th>\n",
       "      <td>2017-07-10 23:33:00</td>\n",
       "      <td>SKOMOBO1</td>\n",
       "      <td>PM10</td>\n",
       "      <td>1.0</td>\n",
       "    </tr>\n",
       "    <tr>\n",
       "      <th>69014</th>\n",
       "      <td>2017-07-10 23:34:00</td>\n",
       "      <td>SKOMOBO1</td>\n",
       "      <td>PM10</td>\n",
       "      <td>1.0</td>\n",
       "    </tr>\n",
       "    <tr>\n",
       "      <th>69016</th>\n",
       "      <td>2017-07-10 23:36:00</td>\n",
       "      <td>SKOMOBO1</td>\n",
       "      <td>PM10</td>\n",
       "      <td>1.0</td>\n",
       "    </tr>\n",
       "    <tr>\n",
       "      <th>69017</th>\n",
       "      <td>2017-07-10 23:37:00</td>\n",
       "      <td>SKOMOBO1</td>\n",
       "      <td>PM10</td>\n",
       "      <td>1.0</td>\n",
       "    </tr>\n",
       "    <tr>\n",
       "      <th>69018</th>\n",
       "      <td>2017-07-10 23:38:00</td>\n",
       "      <td>SKOMOBO1</td>\n",
       "      <td>PM10</td>\n",
       "      <td>1.0</td>\n",
       "    </tr>\n",
       "    <tr>\n",
       "      <th>69019</th>\n",
       "      <td>2017-07-10 23:39:00</td>\n",
       "      <td>SKOMOBO1</td>\n",
       "      <td>PM10</td>\n",
       "      <td>1.0</td>\n",
       "    </tr>\n",
       "    <tr>\n",
       "      <th>69020</th>\n",
       "      <td>2017-07-10 23:40:00</td>\n",
       "      <td>SKOMOBO1</td>\n",
       "      <td>PM10</td>\n",
       "      <td>2.0</td>\n",
       "    </tr>\n",
       "    <tr>\n",
       "      <th>69021</th>\n",
       "      <td>2017-07-10 23:41:00</td>\n",
       "      <td>SKOMOBO1</td>\n",
       "      <td>PM10</td>\n",
       "      <td>2.0</td>\n",
       "    </tr>\n",
       "    <tr>\n",
       "      <th>69022</th>\n",
       "      <td>2017-07-10 23:42:00</td>\n",
       "      <td>SKOMOBO1</td>\n",
       "      <td>PM10</td>\n",
       "      <td>2.0</td>\n",
       "    </tr>\n",
       "    <tr>\n",
       "      <th>69023</th>\n",
       "      <td>2017-07-10 23:43:00</td>\n",
       "      <td>SKOMOBO1</td>\n",
       "      <td>PM10</td>\n",
       "      <td>2.0</td>\n",
       "    </tr>\n",
       "    <tr>\n",
       "      <th>69024</th>\n",
       "      <td>2017-07-10 23:44:00</td>\n",
       "      <td>SKOMOBO1</td>\n",
       "      <td>PM10</td>\n",
       "      <td>1.0</td>\n",
       "    </tr>\n",
       "    <tr>\n",
       "      <th>69028</th>\n",
       "      <td>2017-07-10 23:48:00</td>\n",
       "      <td>SKOMOBO1</td>\n",
       "      <td>PM10</td>\n",
       "      <td>1.0</td>\n",
       "    </tr>\n",
       "    <tr>\n",
       "      <th>69029</th>\n",
       "      <td>2017-07-10 23:49:00</td>\n",
       "      <td>SKOMOBO1</td>\n",
       "      <td>PM10</td>\n",
       "      <td>2.0</td>\n",
       "    </tr>\n",
       "    <tr>\n",
       "      <th>69030</th>\n",
       "      <td>2017-07-10 23:50:00</td>\n",
       "      <td>SKOMOBO1</td>\n",
       "      <td>PM10</td>\n",
       "      <td>2.0</td>\n",
       "    </tr>\n",
       "    <tr>\n",
       "      <th>69032</th>\n",
       "      <td>2017-07-10 23:52:00</td>\n",
       "      <td>SKOMOBO1</td>\n",
       "      <td>PM10</td>\n",
       "      <td>1.0</td>\n",
       "    </tr>\n",
       "    <tr>\n",
       "      <th>69033</th>\n",
       "      <td>2017-07-10 23:53:00</td>\n",
       "      <td>SKOMOBO1</td>\n",
       "      <td>PM10</td>\n",
       "      <td>1.0</td>\n",
       "    </tr>\n",
       "    <tr>\n",
       "      <th>69034</th>\n",
       "      <td>2017-07-10 23:54:00</td>\n",
       "      <td>SKOMOBO1</td>\n",
       "      <td>PM10</td>\n",
       "      <td>1.0</td>\n",
       "    </tr>\n",
       "    <tr>\n",
       "      <th>69036</th>\n",
       "      <td>2017-07-10 23:56:00</td>\n",
       "      <td>SKOMOBO1</td>\n",
       "      <td>PM10</td>\n",
       "      <td>2.0</td>\n",
       "    </tr>\n",
       "    <tr>\n",
       "      <th>69037</th>\n",
       "      <td>2017-07-10 23:57:00</td>\n",
       "      <td>SKOMOBO1</td>\n",
       "      <td>PM10</td>\n",
       "      <td>2.0</td>\n",
       "    </tr>\n",
       "    <tr>\n",
       "      <th>69039</th>\n",
       "      <td>2017-07-10 23:59:00</td>\n",
       "      <td>SKOMOBO1</td>\n",
       "      <td>PM10</td>\n",
       "      <td>2.0</td>\n",
       "    </tr>\n",
       "    <tr>\n",
       "      <th>69040</th>\n",
       "      <td>2017-07-11 00:00:00</td>\n",
       "      <td>SKOMOBO1</td>\n",
       "      <td>PM10</td>\n",
       "      <td>2.0</td>\n",
       "    </tr>\n",
       "  </tbody>\n",
       "</table>\n",
       "<p>11522 rows × 4 columns</p>\n",
       "</div>"
      ],
      "text/plain": [
       "                        DT    EQM_ID variable  value\n",
       "1      2017-07-05 00:00:00  SKOMOBO1    PM2.5    2.0\n",
       "5      2017-07-05 00:04:00  SKOMOBO1    PM2.5    2.0\n",
       "6      2017-07-05 00:05:00  SKOMOBO1    PM2.5    2.0\n",
       "9      2017-07-05 00:08:00  SKOMOBO1    PM2.5    1.0\n",
       "12     2017-07-05 00:11:00  SKOMOBO1    PM2.5    2.0\n",
       "16     2017-07-05 00:15:00  SKOMOBO1    PM2.5    2.0\n",
       "18     2017-07-05 00:17:00  SKOMOBO1    PM2.5    1.0\n",
       "20     2017-07-05 00:19:00  SKOMOBO1    PM2.5    2.0\n",
       "21     2017-07-05 00:20:00  SKOMOBO1    PM2.5    2.0\n",
       "22     2017-07-05 00:21:00  SKOMOBO1    PM2.5    2.0\n",
       "24     2017-07-05 00:23:00  SKOMOBO1    PM2.5    1.0\n",
       "26     2017-07-05 00:25:00  SKOMOBO1    PM2.5    2.0\n",
       "28     2017-07-05 00:27:00  SKOMOBO1    PM2.5    2.0\n",
       "29     2017-07-05 00:28:00  SKOMOBO1    PM2.5    1.0\n",
       "30     2017-07-05 00:29:00  SKOMOBO1    PM2.5    2.0\n",
       "31     2017-07-05 00:30:00  SKOMOBO1    PM2.5    2.0\n",
       "32     2017-07-05 00:31:00  SKOMOBO1    PM2.5    2.0\n",
       "33     2017-07-05 00:32:00  SKOMOBO1    PM2.5    1.0\n",
       "34     2017-07-05 00:33:00  SKOMOBO1    PM2.5    2.0\n",
       "35     2017-07-05 00:34:00  SKOMOBO1    PM2.5    2.0\n",
       "36     2017-07-05 00:35:00  SKOMOBO1    PM2.5    1.0\n",
       "37     2017-07-05 00:36:00  SKOMOBO1    PM2.5    1.0\n",
       "38     2017-07-05 00:37:00  SKOMOBO1    PM2.5    2.0\n",
       "40     2017-07-05 00:39:00  SKOMOBO1    PM2.5    2.0\n",
       "41     2017-07-05 00:40:00  SKOMOBO1    PM2.5    2.0\n",
       "42     2017-07-05 00:41:00  SKOMOBO1    PM2.5    2.0\n",
       "43     2017-07-05 00:42:00  SKOMOBO1    PM2.5    2.0\n",
       "46     2017-07-05 00:45:00  SKOMOBO1    PM2.5    2.0\n",
       "48     2017-07-05 00:47:00  SKOMOBO1    PM2.5    2.0\n",
       "49     2017-07-05 00:48:00  SKOMOBO1    PM2.5    2.0\n",
       "...                    ...       ...      ...    ...\n",
       "69004  2017-07-10 23:24:00  SKOMOBO1     PM10    1.0\n",
       "69005  2017-07-10 23:25:00  SKOMOBO1     PM10    2.0\n",
       "69006  2017-07-10 23:26:00  SKOMOBO1     PM10    2.0\n",
       "69007  2017-07-10 23:27:00  SKOMOBO1     PM10    2.0\n",
       "69008  2017-07-10 23:28:00  SKOMOBO1     PM10    1.0\n",
       "69009  2017-07-10 23:29:00  SKOMOBO1     PM10    2.0\n",
       "69010  2017-07-10 23:30:00  SKOMOBO1     PM10    2.0\n",
       "69011  2017-07-10 23:31:00  SKOMOBO1     PM10    2.0\n",
       "69012  2017-07-10 23:32:00  SKOMOBO1     PM10    2.0\n",
       "69013  2017-07-10 23:33:00  SKOMOBO1     PM10    1.0\n",
       "69014  2017-07-10 23:34:00  SKOMOBO1     PM10    1.0\n",
       "69016  2017-07-10 23:36:00  SKOMOBO1     PM10    1.0\n",
       "69017  2017-07-10 23:37:00  SKOMOBO1     PM10    1.0\n",
       "69018  2017-07-10 23:38:00  SKOMOBO1     PM10    1.0\n",
       "69019  2017-07-10 23:39:00  SKOMOBO1     PM10    1.0\n",
       "69020  2017-07-10 23:40:00  SKOMOBO1     PM10    2.0\n",
       "69021  2017-07-10 23:41:00  SKOMOBO1     PM10    2.0\n",
       "69022  2017-07-10 23:42:00  SKOMOBO1     PM10    2.0\n",
       "69023  2017-07-10 23:43:00  SKOMOBO1     PM10    2.0\n",
       "69024  2017-07-10 23:44:00  SKOMOBO1     PM10    1.0\n",
       "69028  2017-07-10 23:48:00  SKOMOBO1     PM10    1.0\n",
       "69029  2017-07-10 23:49:00  SKOMOBO1     PM10    2.0\n",
       "69030  2017-07-10 23:50:00  SKOMOBO1     PM10    2.0\n",
       "69032  2017-07-10 23:52:00  SKOMOBO1     PM10    1.0\n",
       "69033  2017-07-10 23:53:00  SKOMOBO1     PM10    1.0\n",
       "69034  2017-07-10 23:54:00  SKOMOBO1     PM10    1.0\n",
       "69036  2017-07-10 23:56:00  SKOMOBO1     PM10    2.0\n",
       "69037  2017-07-10 23:57:00  SKOMOBO1     PM10    2.0\n",
       "69039  2017-07-10 23:59:00  SKOMOBO1     PM10    2.0\n",
       "69040  2017-07-11 00:00:00  SKOMOBO1     PM10    2.0\n",
       "\n",
       "[11522 rows x 4 columns]"
      ]
     },
     "execution_count": 80,
     "metadata": {},
     "output_type": "execute_result"
    }
   ],
   "source": [
    "skomobo[skomobo[\"value\"] < 3]"
   ]
  },
  {
   "cell_type": "code",
   "execution_count": 83,
   "metadata": {
    "collapsed": false
   },
   "outputs": [
    {
     "data": {
      "text/plain": [
       "<matplotlib.axes._subplots.AxesSubplot at 0x1ac60518>"
      ]
     },
     "execution_count": 83,
     "metadata": {},
     "output_type": "execute_result"
    },
    {
     "data": {
      "image/png": "[encoded data removed]",
      "text/plain": [
       "<matplotlib.figure.Figure at 0x1a9b92b0>"
      ]
     },
     "metadata": {},
     "output_type": "display_data"
    }
   ],
   "source": [
    "skomobo[skomobo[\"value\"] < 3].value.apply(np.log).plot(x = \"DT\", y = \"value\", style = '.')"
   ]
  },
  {
   "cell_type": "code",
   "execution_count": 94,
   "metadata": {
    "collapsed": false
   },
   "outputs": [
    {
     "data": {
      "text/plain": [
       "<matplotlib.axes._subplots.AxesSubplot at 0x1ba1b0f0>"
      ]
     },
     "execution_count": 94,
     "metadata": {},
     "output_type": "execute_result"
    },
    {
     "data": {
      "image/png": "[encoded data removed]",
      "text/plain": [
       "<matplotlib.figure.Figure at 0x1ba3def0>"
      ]
     },
     "metadata": {},
     "output_type": "display_data"
    }
   ],
   "source": [
    "skomobo.groupby(\"value\").count().DT.sort_values(ascending=False).plot(kind='bar')                                      "
   ]
  },
  {
   "cell_type": "markdown",
   "metadata": {},
   "source": [
    "# find thing like this in javascript apply to server \n",
    "r gam\n",
    "\n",
    "https://stat.ethz.ch/R-manual/R-devel/library/mgcv/html/gam.html"
   ]
  },
  {
   "cell_type": "code",
   "execution_count": 89,
   "metadata": {
    "collapsed": false
   },
   "outputs": [
    {
     "data": {
      "text/plain": [
       "<matplotlib.axes._subplots.AxesSubplot at 0x1b4d1eb8>"
      ]
     },
     "execution_count": 89,
     "metadata": {},
     "output_type": "execute_result"
    },
    {
     "data": {
      "image/png": "[encoded data removed]",
      "text/plain": [
       "<matplotlib.figure.Figure at 0x1a23be48>"
      ]
     },
     "metadata": {},
     "output_type": "display_data"
    }
   ],
   "source": [
    "pm10dt[pm10dt[\"value\"] < 3].plot(x = \"DT\", y = \"value\", style = '.')"
   ]
  },
  {
   "cell_type": "code",
   "execution_count": 95,
   "metadata": {
    "collapsed": false
   },
   "outputs": [
    {
     "data": {
      "text/plain": [
       "<matplotlib.axes._subplots.AxesSubplot at 0x1bf77da0>"
      ]
     },
     "execution_count": 95,
     "metadata": {},
     "output_type": "execute_result"
    },
    {
     "data": {
      "image/png": "[encoded data removed]",
      "text/plain": [
       "<matplotlib.figure.Figure at 0x1c01fc50>"
      ]
     },
     "metadata": {},
     "output_type": "display_data"
    }
   ],
   "source": [
    "pm10dt.groupby(\"value\").count().DT.sort_values(ascending=False).plot(kind='bar')"
   ]
  },
  {
   "cell_type": "code",
   "execution_count": null,
   "metadata": {
    "collapsed": true
   },
   "outputs": [],
   "source": []
  }
 ],
 "metadata": {
  "hide_code_all_hidden": false,
  "kernelspec": {
   "display_name": "Python 2",
   "language": "python",
   "name": "python2"
  },
  "language_info": {
   "codemirror_mode": {
    "name": "ipython",
    "version": 2
   },
   "file_extension": ".py",
   "mimetype": "text/x-python",
   "name": "python",
   "nbconvert_exporter": "python",
   "pygments_lexer": "ipython2",
   "version": "2.7.13"
  }
 },
 "nbformat": 4,
 "nbformat_minor": 2
}
