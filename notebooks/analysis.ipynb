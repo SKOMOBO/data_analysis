{
 "cells": [
  {
   "cell_type": "code",
   "execution_count": 1,
   "metadata": {
    "collapsed": true,
    "hideCode": false,
    "hidePrompt": false
   },
   "outputs": [],
   "source": [
    "import pandas as pd"
   ]
  },
  {
   "cell_type": "code",
   "execution_count": 8,
   "metadata": {
    "collapsed": false,
    "hideCode": false,
    "hidePrompt": false
   },
   "outputs": [],
   "source": [
    "dfs = []\n",
    "\n",
    "for i in range(1, 8):\n",
    "    dfs.append(pd.read_csv(\"../data/PM_estimation/SKOMOBO-dust\" + str(i) +\".csv\", index_col=0))\n",
    "    \n",
    "data = pd.concat(dfs)"
   ]
  },
  {
   "cell_type": "code",
   "execution_count": 10,
   "metadata": {
    "collapsed": false,
    "hideCode": false,
    "hidePrompt": false
   },
   "outputs": [
    {
     "data": {
      "text/html": [
       "<div>\n",
       "<table border=\"1\" class=\"dataframe\">\n",
       "  <thead>\n",
       "    <tr style=\"text-align: right;\">\n",
       "      <th></th>\n",
       "      <th>DT</th>\n",
       "      <th>EQM_ID</th>\n",
       "      <th>variable</th>\n",
       "      <th>value</th>\n",
       "    </tr>\n",
       "  </thead>\n",
       "  <tbody>\n",
       "    <tr>\n",
       "      <th>1</th>\n",
       "      <td>2017-05-12 17:30:00</td>\n",
       "      <td>SKOMOBO</td>\n",
       "      <td>PM1.0</td>\n",
       "      <td>0.0</td>\n",
       "    </tr>\n",
       "    <tr>\n",
       "      <th>2</th>\n",
       "      <td>2017-05-12 17:31:00</td>\n",
       "      <td>SKOMOBO</td>\n",
       "      <td>PM1.0</td>\n",
       "      <td>0.0</td>\n",
       "    </tr>\n",
       "    <tr>\n",
       "      <th>3</th>\n",
       "      <td>2017-05-12 17:32:00</td>\n",
       "      <td>SKOMOBO</td>\n",
       "      <td>PM1.0</td>\n",
       "      <td>0.0</td>\n",
       "    </tr>\n",
       "    <tr>\n",
       "      <th>4</th>\n",
       "      <td>2017-05-12 17:33:00</td>\n",
       "      <td>SKOMOBO</td>\n",
       "      <td>PM1.0</td>\n",
       "      <td>0.0</td>\n",
       "    </tr>\n",
       "    <tr>\n",
       "      <th>5</th>\n",
       "      <td>2017-05-12 17:34:00</td>\n",
       "      <td>SKOMOBO</td>\n",
       "      <td>PM1.0</td>\n",
       "      <td>0.0</td>\n",
       "    </tr>\n",
       "    <tr>\n",
       "      <th>6</th>\n",
       "      <td>2017-05-12 17:35:00</td>\n",
       "      <td>SKOMOBO</td>\n",
       "      <td>PM1.0</td>\n",
       "      <td>0.0</td>\n",
       "    </tr>\n",
       "    <tr>\n",
       "      <th>7</th>\n",
       "      <td>2017-05-12 17:36:00</td>\n",
       "      <td>SKOMOBO</td>\n",
       "      <td>PM1.0</td>\n",
       "      <td>0.0</td>\n",
       "    </tr>\n",
       "    <tr>\n",
       "      <th>8</th>\n",
       "      <td>2017-05-12 17:37:00</td>\n",
       "      <td>SKOMOBO</td>\n",
       "      <td>PM1.0</td>\n",
       "      <td>0.0</td>\n",
       "    </tr>\n",
       "    <tr>\n",
       "      <th>9</th>\n",
       "      <td>2017-05-12 17:38:00</td>\n",
       "      <td>SKOMOBO</td>\n",
       "      <td>PM1.0</td>\n",
       "      <td>0.0</td>\n",
       "    </tr>\n",
       "    <tr>\n",
       "      <th>10</th>\n",
       "      <td>2017-05-12 17:39:00</td>\n",
       "      <td>SKOMOBO</td>\n",
       "      <td>PM1.0</td>\n",
       "      <td>0.0</td>\n",
       "    </tr>\n",
       "  </tbody>\n",
       "</table>\n",
       "</div>"
      ],
      "text/plain": [
       "                     DT   EQM_ID variable  value\n",
       "1   2017-05-12 17:30:00  SKOMOBO    PM1.0    0.0\n",
       "2   2017-05-12 17:31:00  SKOMOBO    PM1.0    0.0\n",
       "3   2017-05-12 17:32:00  SKOMOBO    PM1.0    0.0\n",
       "4   2017-05-12 17:33:00  SKOMOBO    PM1.0    0.0\n",
       "5   2017-05-12 17:34:00  SKOMOBO    PM1.0    0.0\n",
       "6   2017-05-12 17:35:00  SKOMOBO    PM1.0    0.0\n",
       "7   2017-05-12 17:36:00  SKOMOBO    PM1.0    0.0\n",
       "8   2017-05-12 17:37:00  SKOMOBO    PM1.0    0.0\n",
       "9   2017-05-12 17:38:00  SKOMOBO    PM1.0    0.0\n",
       "10  2017-05-12 17:39:00  SKOMOBO    PM1.0    0.0"
      ]
     },
     "execution_count": 10,
     "metadata": {},
     "output_type": "execute_result"
    }
   ],
   "source": [
    "data.head(10)"
   ]
  },
  {
   "cell_type": "code",
   "execution_count": 12,
   "metadata": {
    "collapsed": true,
    "hideCode": false,
    "hidePrompt": false
   },
   "outputs": [],
   "source": [
    "%matplotlib inline"
   ]
  },
  {
   "cell_type": "code",
   "execution_count": 13,
   "metadata": {
    "collapsed": false,
    "hideCode": false,
    "hidePrompt": false
   },
   "outputs": [
    {
     "data": {
      "text/plain": [
       "<matplotlib.axes._subplots.AxesSubplot at 0x1550a6a0>"
      ]
     },
     "execution_count": 13,
     "metadata": {},
     "output_type": "execute_result"
    },
    {
     "data": {
      "image/png": "[encoded data removed]",
      "text/plain": [
       "<matplotlib.figure.Figure at 0x9af3cc0>"
      ]
     },
     "metadata": {},
     "output_type": "display_data"
    }
   ],
   "source": [
    "data.value.plot()"
   ]
  },
  {
   "cell_type": "code",
   "execution_count": 15,
   "metadata": {
    "collapsed": false
   },
   "outputs": [
    {
     "data": {
      "text/plain": [
       "{'DTPM10',\n",
       " 'DTPM2.5',\n",
       " 'PM10DT',\n",
       " 'PM2.5DT',\n",
       " 'SKOMOBO',\n",
       " 'SKOMOBO1',\n",
       " 'SKOMOBO2',\n",
       " 'SKOMOBO3',\n",
       " 'SKOMOBO4',\n",
       " 'SKOMOBO5',\n",
       " 'SKOMOBO6',\n",
       " 'SKOMOBO7'}"
      ]
     },
     "execution_count": 15,
     "metadata": {},
     "output_type": "execute_result"
    }
   ],
   "source": [
    "set(data[\"EQM_ID\"])"
   ]
  },
  {
   "cell_type": "code",
   "execution_count": 19,
   "metadata": {
    "collapsed": false
   },
   "outputs": [
    {
     "data": {
      "text/plain": [
       "<matplotlib.axes._subplots.AxesSubplot at 0x156de898>"
      ]
     },
     "execution_count": 19,
     "metadata": {},
     "output_type": "execute_result"
    },
    {
     "data": {
      "image/png": "[encoded data removed]",
      "text/plain": [
       "<matplotlib.figure.Figure at 0x143cad30>"
      ]
     },
     "metadata": {},
     "output_type": "display_data"
    }
   ],
   "source": [
    "data[data[\"EQM_ID\"] == \"PM10DT\"].value.plot()"
   ]
  },
  {
   "cell_type": "code",
   "execution_count": 14,
   "metadata": {
    "collapsed": true,
    "hideCode": false,
    "hidePrompt": false
   },
   "outputs": [],
   "source": [
    "skomobo = data[data[\"EQM_ID\"] == \"SKOMOBO\"]\n",
    "Qtrack = data[data[\"EQM_ID\"] == \"SKOMOBO\"]"
   ]
  },
  {
   "cell_type": "code",
   "execution_count": null,
   "metadata": {
    "collapsed": true
   },
   "outputs": [],
   "source": []
  }
 ],
 "metadata": {
  "hide_code_all_hidden": false,
  "kernelspec": {
   "display_name": "Python 2",
   "language": "python",
   "name": "python2"
  },
  "language_info": {
   "codemirror_mode": {
    "name": "ipython",
    "version": 2
   },
   "file_extension": ".py",
   "mimetype": "text/x-python",
   "name": "python",
   "nbconvert_exporter": "python",
   "pygments_lexer": "ipython2",
   "version": "2.7.13"
  }
 },
 "nbformat": 4,
 "nbformat_minor": 2
}
