{
 "cells": [
  {
   "cell_type": "code",
   "execution_count": 1,
   "metadata": {
    "collapsed": true
   },
   "outputs": [],
   "source": [
    "import pandas as pd\n",
    "%matplotlib inline\n",
    "from pylab import rcParams\n",
    "\n",
    "rcParams['figure.figsize'] = 10, 5\n",
    "rcParams['font.size'] = 20\n",
    "rcParams['figure.dpi'] = 100\n",
    "rcParams['lines.linewidth'] = 2\n",
    "rcParams['axes.facecolor'] = 'white'\n",
    "rcParams['patch.edgecolor'] = 'white'\n",
    "rcParams['font.family'] = 'StixGeneral'\n",
    "\n",
    "pd.set_option(\"display.max_rows\",15)\n",
    "pd.set_option(\"display.max_columns\",15)\n",
    "dfs = []\n",
    "\n",
    "for i in range(1, 8):\n",
    "    dfs.append(pd.read_csv(\"../data/PM_estimation/SKOMOBO-dust\" + str(i) +\".csv\", index_col=0, parse_dates=True))\n",
    "    \n",
    "all_data = pd.concat(dfs)"
   ]
  },
  {
   "cell_type": "code",
   "execution_count": 9,
   "metadata": {
    "collapsed": false
   },
   "outputs": [],
   "source": [
    "all_data = all_data.set_index(pd.DatetimeIndex(all_data.DT.values))[[\"EQM_ID\", \"variable\", \"value\"]]"
   ]
  },
  {
   "cell_type": "code",
   "execution_count": 10,
   "metadata": {
    "collapsed": true
   },
   "outputs": [],
   "source": [
    "pm10s = all_data[all_data.variable == \"PM10\"][\"va\"]\n",
    "pm25s = all_data[all_data.variable == \"PM25\"]\n",
    "\n",
    "skomobo10 = pm10s[pm10s.EQM_ID == \"SKOMOBO1\"]\n",
    "skomobo25 = \n",
    "pm10dt = all_data[all_data.EQM_ID == \"PM10DT\"][[]]\n",
    "pm2_5dt = all_data[all_data.EQM_ID == \"PM2.5DT\"][[]]"
   ]
  },
  {
   "cell_type": "code",
   "execution_count": 11,
   "metadata": {
    "collapsed": false
   },
   "outputs": [
    {
     "data": {
      "text/html": [
       "<div>\n",
       "<table border=\"1\" class=\"dataframe\">\n",
       "  <thead>\n",
       "    <tr style=\"text-align: right;\">\n",
       "      <th></th>\n",
       "      <th>EQM_ID</th>\n",
       "      <th>variable</th>\n",
       "      <th>value</th>\n",
       "    </tr>\n",
       "  </thead>\n",
       "  <tbody>\n",
       "    <tr>\n",
       "      <th>2017-05-26 16:47:00</th>\n",
       "      <td>SKOMOBO1</td>\n",
       "      <td>PM1.0</td>\n",
       "      <td>0.0</td>\n",
       "    </tr>\n",
       "    <tr>\n",
       "      <th>2017-05-26 16:48:00</th>\n",
       "      <td>SKOMOBO1</td>\n",
       "      <td>PM1.0</td>\n",
       "      <td>0.0</td>\n",
       "    </tr>\n",
       "    <tr>\n",
       "      <th>2017-05-26 16:49:00</th>\n",
       "      <td>SKOMOBO1</td>\n",
       "      <td>PM1.0</td>\n",
       "      <td>0.0</td>\n",
       "    </tr>\n",
       "    <tr>\n",
       "      <th>2017-05-26 16:50:00</th>\n",
       "      <td>SKOMOBO1</td>\n",
       "      <td>PM1.0</td>\n",
       "      <td>0.0</td>\n",
       "    </tr>\n",
       "    <tr>\n",
       "      <th>2017-05-26 16:51:00</th>\n",
       "      <td>SKOMOBO1</td>\n",
       "      <td>PM1.0</td>\n",
       "      <td>1.0</td>\n",
       "    </tr>\n",
       "    <tr>\n",
       "      <th>2017-05-26 16:52:00</th>\n",
       "      <td>SKOMOBO1</td>\n",
       "      <td>PM1.0</td>\n",
       "      <td>0.0</td>\n",
       "    </tr>\n",
       "    <tr>\n",
       "      <th>2017-05-26 16:53:00</th>\n",
       "      <td>SKOMOBO1</td>\n",
       "      <td>PM1.0</td>\n",
       "      <td>0.0</td>\n",
       "    </tr>\n",
       "    <tr>\n",
       "      <th>...</th>\n",
       "      <td>...</td>\n",
       "      <td>...</td>\n",
       "      <td>...</td>\n",
       "    </tr>\n",
       "    <tr>\n",
       "      <th>2017-07-13 11:54:00</th>\n",
       "      <td>SKOMOBO1</td>\n",
       "      <td>PM10</td>\n",
       "      <td>5120.0</td>\n",
       "    </tr>\n",
       "    <tr>\n",
       "      <th>2017-07-13 11:55:00</th>\n",
       "      <td>SKOMOBO1</td>\n",
       "      <td>PM10</td>\n",
       "      <td>0.0</td>\n",
       "    </tr>\n",
       "    <tr>\n",
       "      <th>2017-07-13 11:56:00</th>\n",
       "      <td>SKOMOBO1</td>\n",
       "      <td>PM10</td>\n",
       "      <td>19712.0</td>\n",
       "    </tr>\n",
       "    <tr>\n",
       "      <th>2017-07-13 11:57:00</th>\n",
       "      <td>SKOMOBO1</td>\n",
       "      <td>PM10</td>\n",
       "      <td>4.0</td>\n",
       "    </tr>\n",
       "    <tr>\n",
       "      <th>2017-07-13 11:58:00</th>\n",
       "      <td>SKOMOBO1</td>\n",
       "      <td>PM10</td>\n",
       "      <td>5120.0</td>\n",
       "    </tr>\n",
       "    <tr>\n",
       "      <th>2017-07-13 11:59:00</th>\n",
       "      <td>SKOMOBO1</td>\n",
       "      <td>PM10</td>\n",
       "      <td>0.0</td>\n",
       "    </tr>\n",
       "    <tr>\n",
       "      <th>2017-07-13 12:00:00</th>\n",
       "      <td>SKOMOBO1</td>\n",
       "      <td>PM10</td>\n",
       "      <td>19712.0</td>\n",
       "    </tr>\n",
       "  </tbody>\n",
       "</table>\n",
       "<p>75247 rows × 3 columns</p>\n",
       "</div>"
      ],
      "text/plain": [
       "                       EQM_ID variable    value\n",
       "2017-05-26 16:47:00  SKOMOBO1    PM1.0      0.0\n",
       "2017-05-26 16:48:00  SKOMOBO1    PM1.0      0.0\n",
       "2017-05-26 16:49:00  SKOMOBO1    PM1.0      0.0\n",
       "2017-05-26 16:50:00  SKOMOBO1    PM1.0      0.0\n",
       "2017-05-26 16:51:00  SKOMOBO1    PM1.0      1.0\n",
       "2017-05-26 16:52:00  SKOMOBO1    PM1.0      0.0\n",
       "2017-05-26 16:53:00  SKOMOBO1    PM1.0      0.0\n",
       "...                       ...      ...      ...\n",
       "2017-07-13 11:54:00  SKOMOBO1     PM10   5120.0\n",
       "2017-07-13 11:55:00  SKOMOBO1     PM10      0.0\n",
       "2017-07-13 11:56:00  SKOMOBO1     PM10  19712.0\n",
       "2017-07-13 11:57:00  SKOMOBO1     PM10      4.0\n",
       "2017-07-13 11:58:00  SKOMOBO1     PM10   5120.0\n",
       "2017-07-13 11:59:00  SKOMOBO1     PM10      0.0\n",
       "2017-07-13 12:00:00  SKOMOBO1     PM10  19712.0\n",
       "\n",
       "[75247 rows x 3 columns]"
      ]
     },
     "execution_count": 11,
     "metadata": {},
     "output_type": "execute_result"
    }
   ],
   "source": [
    "skomobo"
   ]
  },
  {
   "cell_type": "code",
   "execution_count": null,
   "metadata": {
    "collapsed": true
   },
   "outputs": [],
   "source": []
  }
 ],
 "metadata": {
  "kernelspec": {
   "display_name": "Python 2",
   "language": "python",
   "name": "python2"
  },
  "language_info": {
   "codemirror_mode": {
    "name": "ipython",
    "version": 2
   },
   "file_extension": ".py",
   "mimetype": "text/x-python",
   "name": "python",
   "nbconvert_exporter": "python",
   "pygments_lexer": "ipython2",
   "version": "2.7.13"
  }
 },
 "nbformat": 4,
 "nbformat_minor": 2
}
